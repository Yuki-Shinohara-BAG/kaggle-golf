{
 "cells": [
  {
   "cell_type": "code",
   "execution_count": 1,
   "id": "6464d57a",
   "metadata": {},
   "outputs": [
    {
     "data": {
      "image/png": "[encoded data removed]",
      "text/plain": [
       "<Figure size 1000x500 with 1 Axes>"
      ]
     },
     "metadata": {},
     "output_type": "display_data"
    }
   ],
   "source": [
    "import sys\n",
    "import json\n",
    "import shutil\n",
    "sys.path.append(\"../inputs/google-code-golf-2025/code_golf_utils\")\n",
    "from code_golf_utils import *\n",
    "show_legend()"
   ]
  },
  {
   "cell_type": "code",
   "execution_count": 2,
   "id": "6002d52a",
   "metadata": {},
   "outputs": [],
   "source": [
    "def get_examples(task_num):\n",
    "    examples = load_examples(task_num)\n",
    "    show_examples(examples['train'] + examples['test'])\n",
    "    return examples\n",
    "\n",
    "def save_file(task_num, sub_dir=\"/kaggle/working/submission/\"):\n",
    "    task_path = os.path.join(sub_dir, f\"task{task_num:03d}.py\")\n",
    "    os.makedirs(sub_dir, exist_ok=True)\n",
    "    shutil.copy(\"task.py\", task_path)\n",
    "    \n",
    "def show_grid(out_grid, in_grid, ans_grid, figsize=(12, 4), k=-0.11):\n",
    "    # Colors for each index\n",
    "    colors = [\n",
    "        (0, 0, 0),\n",
    "        (30, 147, 255),\n",
    "        (250, 61, 49),\n",
    "        (78, 204, 48),\n",
    "        (255, 221, 0),\n",
    "        (153, 153, 153),\n",
    "        (229, 59, 163),\n",
    "        (255, 133, 28),\n",
    "        (136, 216, 241),\n",
    "        (147, 17, 49),\n",
    "    ]\n",
    "    colors = [(r/255, g/255, b/255) for r, g, b in colors]\n",
    "\n",
    "    def plot_ax(ax, arr):\n",
    "        rows = len(arr)\n",
    "        cols = len(arr[0])\n",
    "        # Draw each cell\n",
    "        for y in range(rows):\n",
    "            for x in range(cols):\n",
    "                color = colors[arr[y][x]]\n",
    "                rect = plt.Rectangle((x, y), 1, 1, facecolor=color, edgecolor=\"white\")\n",
    "                ax.add_patch(rect)\n",
    "\n",
    "        # Axis limits\n",
    "        ax.set_xlim(0, cols)\n",
    "        ax.set_ylim(0, rows)\n",
    "        # Center ticks in each cell\n",
    "        ax.set_xticks([i + 0.5 for i in range(cols)])\n",
    "        ax.set_yticks([i + 0.5 for i in range(rows)])\n",
    "        # Label ticks as integers\n",
    "        ax.set_xticklabels(range(cols))\n",
    "        ax.set_yticklabels(range(rows))\n",
    "        ax.tick_params(axis='both', length=0)\n",
    "        # Move x-axis labels to top\n",
    "        ax.xaxis.tick_top()\n",
    "        ax.xaxis.set_label_position('top')\n",
    "        # Invert y-axis so 0 is at the top\n",
    "        ax.invert_yaxis()\n",
    "        # Square cells\n",
    "        ax.set_aspect('equal')\n",
    "\n",
    "    fig, ax = plt.subplots(1, 3, figsize=figsize)\n",
    "    plot_ax(ax[0],out_grid)\n",
    "    ax[0].set_title(\"Output\",y=k)\n",
    "    plot_ax(ax[1], in_grid)\n",
    "    ax[1].set_title(\"Input\",y=k)\n",
    "    plot_ax(ax[2],ans_grid)\n",
    "    ax[2].set_title(\"Answer\",y=k)\n",
    "    plt.show()"
   ]
  },
  {
   "cell_type": "code",
   "execution_count": 3,
   "id": "8db9bf56",
   "metadata": {},
   "outputs": [
    {
     "data": {
      "image/png": "[encoded data removed]",
      "text/plain": [
       "<Figure size 1000x500 with 1 Axes>"
      ]
     },
     "metadata": {},
     "output_type": "display_data"
    }
   ],
   "source": [
    "task_num = 14\n",
    "examples = get_examples(task_num)"
   ]
  },
  {
   "cell_type": "code",
   "execution_count": 4,
   "id": "aeea9207",
   "metadata": {},
   "outputs": [],
   "source": [
    "def p(g):\n",
    "    \"\"\"\n",
    "    ARC Task: Extract the quadrant with different number pattern\n",
    "    \n",
    "    Input: Grid divided into 4 quadrants separated by rows/columns of zeros\n",
    "    Output: The quadrant that has a different number distribution pattern\n",
    "    \"\"\"\n",
    "    height = len(g)\n",
    "    width = len(g[0])\n",
    "    \n",
    "    # Step 1: Find separator rows and columns (filled with zeros)\n",
    "    separator_rows = []\n",
    "    separator_cols = []\n",
    "    \n",
    "    for r in range(height):\n",
    "        if all(cell == 0 for cell in g[r]):\n",
    "            separator_rows.append(r)\n",
    "    \n",
    "    for c in range(width):\n",
    "        if all(g[r][c] == 0 for r in range(height)):\n",
    "            separator_cols.append(c)\n",
    "    \n",
    "    # Step 2: Determine quadrant boundaries\n",
    "    row_split = min(separator_rows)\n",
    "    col_split = min(separator_cols) \n",
    "    row_split2 = max(separator_rows) + 1\n",
    "    col_split2 = max(separator_cols) + 1\n",
    "    \n",
    "    # Step 3: Extract the 4 quadrants\n",
    "    top_left = []\n",
    "    top_right = []\n",
    "    bottom_left = []\n",
    "    bottom_right = []\n",
    "    \n",
    "    for r in range(row_split):\n",
    "        top_left.append(g[r][:col_split])\n",
    "        top_right.append(g[r][col_split2:])\n",
    "    \n",
    "    for r in range(row_split2, height):\n",
    "        bottom_left.append(g[r][:col_split])\n",
    "        bottom_right.append(g[r][col_split2:])\n",
    "    \n",
    "    # Step 4: Analyze number distribution in each quadrant\n",
    "    def get_number_set(quadrant):\n",
    "        \"\"\"Get unique numbers in quadrant\"\"\"\n",
    "        numbers = set()\n",
    "        for row in quadrant:\n",
    "            for cell in row:\n",
    "                numbers.add(cell)\n",
    "        return numbers\n",
    "    \n",
    "    quadrants = [\n",
    "        (top_left, \"top_left\"),\n",
    "        (top_right, \"top_right\"), \n",
    "        (bottom_left, \"bottom_left\"),\n",
    "        (bottom_right, \"bottom_right\")\n",
    "    ]\n",
    "    \n",
    "    # Step 5: Find the quadrant with different pattern\n",
    "    number_patterns = []\n",
    "    for quadrant, name in quadrants:\n",
    "        pattern = get_number_set(quadrant)\n",
    "        number_patterns.append((quadrant, pattern, name))\n",
    "    \n",
    "    # Step 6: Identify unique pattern\n",
    "    for i, (quad_i, pattern_i, name_i) in enumerate(number_patterns):\n",
    "        different_count = 0\n",
    "        for j, (quad_j, pattern_j, name_j) in enumerate(number_patterns):\n",
    "            if i != j and pattern_i != pattern_j:\n",
    "                different_count += 1\n",
    "        \n",
    "        # If this quadrant differs from most others, return it\n",
    "        if different_count >= 2:  # Different from at least 2 others\n",
    "            return quad_i\n",
    "    \n",
    "    # Fallback: if no clear unique pattern, return bottom_left\n",
    "    return bottom_left"
   ]
  },
  {
   "cell_type": "code",
   "execution_count": 12,
   "id": "67b4a6e4",
   "metadata": {},
   "outputs": [],
   "source": [
    "def p(g):\n",
    " h,w=len(g),len(g[0]);R=[r for r in range(h)if all(g[r][c]==0for c in range(w))];C=[c for c in range(w)if all(g[r][c]==0for r in range(h))];a,b,c,d=min(R),max(R)+1,min(C),max(C)+1;Q=[[g[r][:c]for r in range(a)],[g[r][d:]for r in range(a)],[g[r][:c]for r in range(b,h)],[g[r][d:]for r in range(b,h)]];S=[{x for r in q for x in r}for q in Q];return next((Q[i]for i,s in enumerate(S)if sum(s!=S[j]for j in range(4)if i!=j)>=2),Q[2])"
   ]
  },
  {
   "cell_type": "code",
   "execution_count": 13,
   "id": "cbfa42bd",
   "metadata": {},
   "outputs": [
    {
     "name": "stdout",
     "output_type": "stream",
     "text": [
      "[[8, 8, 8, 8, 8, 0, 8, 8, 8, 8, 0, 0, 0, 0, 8, 8, 8, 8, 0, 8, 8], [8, 0, 0, 8, 0, 8, 0, 8, 8, 8, 0, 0, 0, 0, 8, 8, 8, 0, 0, 0, 8], [8, 8, 8, 0, 0, 0, 8, 8, 8, 8, 0, 0, 0, 0, 8, 8, 0, 8, 8, 8, 8], [8, 8, 0, 8, 8, 8, 8, 0, 8, 8, 0, 0, 0, 0, 8, 8, 0, 0, 0, 8, 8], [8, 8, 8, 8, 0, 8, 8, 0, 8, 8, 0, 0, 0, 0, 8, 8, 8, 0, 8, 8, 8], [0, 0, 0, 8, 8, 0, 8, 0, 0, 8, 0, 0, 0, 0, 8, 0, 0, 0, 8, 0, 0], [8, 8, 8, 8, 0, 0, 8, 0, 8, 0, 0, 0, 0, 0, 8, 8, 8, 0, 8, 8, 8], [8, 0, 0, 8, 0, 0, 8, 8, 0, 8, 0, 0, 0, 0, 8, 0, 8, 8, 8, 8, 8], [8, 8, 8, 8, 8, 8, 0, 8, 0, 0, 0, 0, 0, 0, 8, 8, 8, 8, 8, 0, 0], [0, 0, 0, 0, 0, 0, 0, 0, 0, 0, 0, 0, 0, 0, 0, 0, 0, 0, 0, 0, 0], [0, 0, 0, 0, 0, 0, 0, 0, 0, 0, 0, 0, 0, 0, 0, 0, 0, 0, 0, 0, 0], [0, 2, 2, 2, 0, 0, 2, 2, 2, 2, 0, 0, 0, 0, 8, 8, 0, 8, 8, 0, 8], [2, 0, 2, 2, 2, 0, 0, 2, 2, 2, 0, 0, 0, 0, 8, 8, 8, 8, 0, 8, 0], [0, 2, 2, 2, 2, 2, 2, 0, 2, 0, 0, 0, 0, 0, 8, 8, 8, 0, 0, 0, 8], [2, 2, 2, 2, 0, 2, 2, 2, 2, 2, 0, 0, 0, 0, 8, 8, 0, 8, 8, 8, 0], [2, 2, 2, 2, 2, 2, 0, 2, 0, 0, 0, 0, 0, 0, 8, 8, 8, 8, 8, 0, 0], [2, 2, 2, 2, 2, 0, 2, 0, 2, 2, 0, 0, 0, 0, 8, 0, 8, 0, 8, 8, 8], [2, 2, 0, 2, 2, 0, 0, 0, 0, 0, 0, 0, 0, 0, 8, 8, 0, 8, 0, 0, 8], [0, 2, 2, 0, 0, 2, 2, 0, 0, 2, 0, 0, 0, 0, 8, 0, 0, 0, 8, 8, 0], [2, 2, 2, 2, 2, 2, 2, 2, 2, 2, 0, 0, 0, 0, 0, 8, 8, 0, 0, 8, 8], [2, 0, 2, 2, 0, 2, 2, 2, 2, 2, 0, 0, 0, 0, 8, 8, 8, 0, 8, 8, 8]]\n",
      "[[0, 2, 2, 2, 0, 0, 2, 2, 2, 2], [2, 0, 2, 2, 2, 0, 0, 2, 2, 2], [0, 2, 2, 2, 2, 2, 2, 0, 2, 0], [2, 2, 2, 2, 0, 2, 2, 2, 2, 2], [2, 2, 2, 2, 2, 2, 0, 2, 0, 0], [2, 2, 2, 2, 2, 0, 2, 0, 2, 2], [2, 2, 0, 2, 2, 0, 0, 0, 0, 0], [0, 2, 2, 0, 0, 2, 2, 0, 0, 2], [2, 2, 2, 2, 2, 2, 2, 2, 2, 2], [2, 0, 2, 2, 0, 2, 2, 2, 2, 2]]\n",
      "[[0, 2, 2, 2, 0, 0, 2, 2, 2, 2], [2, 0, 2, 2, 2, 0, 0, 2, 2, 2], [0, 2, 2, 2, 2, 2, 2, 0, 2, 0], [2, 2, 2, 2, 0, 2, 2, 2, 2, 2], [2, 2, 2, 2, 2, 2, 0, 2, 0, 0], [2, 2, 2, 2, 2, 0, 2, 0, 2, 2], [2, 2, 0, 2, 2, 0, 0, 0, 0, 0], [0, 2, 2, 0, 0, 2, 2, 0, 0, 2], [2, 2, 2, 2, 2, 2, 2, 2, 2, 2], [2, 0, 2, 2, 0, 2, 2, 2, 2, 2]]\n",
      "✓ 成功\n"
     ]
    }
   ],
   "source": [
    "with open(\"../inputs/google-code-golf-2025/task014.json\", \"r\", encoding=\"utf-8\") as f:\n",
    "  task_data = json.load(f)\n",
    "\n",
    "example = task_data[\"train\"][0]\n",
    "input_grid = example[\"input\"]\n",
    "expected_output = example[\"output\"]\n",
    "actual_output = p(input_grid)\n",
    "\n",
    "is_correct = actual_output == expected_output\n",
    "status = \"✓ 成功\" if is_correct else \"✗ 失敗\"\n",
    "\n",
    "print(input_grid)\n",
    "print(expected_output)\n",
    "print(actual_output)\n",
    "print(status)"
   ]
  },
  {
   "cell_type": "code",
   "execution_count": 14,
   "id": "3db7a8db",
   "metadata": {},
   "outputs": [],
   "source": [
    "def test_json():\n",
    "  with open(\"../inputs/google-code-golf-2025/task014.json\", \"r\", encoding=\"utf-8\") as f:\n",
    "    task_data = json.load(f)\n",
    "  \n",
    "  train_success = 0\n",
    "  for i, example in enumerate(task_data[\"train\"]):\n",
    "      input_grid = example[\"input\"]\n",
    "      expected_output = example[\"output\"]\n",
    "      actual_output = p(input_grid)\n",
    "      \n",
    "      is_correct = actual_output == expected_output\n",
    "      status = \"✓ 成功\" if is_correct else \"✗ 失敗\"\n",
    "      \n",
    "      print(f\"Train例{i+1}: {status}\")\n",
    "      if is_correct:\n",
    "          train_success += 1\n",
    "\n",
    "  print(f\"訓練データの成功率: {train_success}/{len(task_data['train'])}\")\n",
    "\n",
    "  test_success = 0\n",
    "  for i, example in enumerate(task_data[\"test\"]):\n",
    "      input_grid = example[\"input\"]\n",
    "      expected_output = example[\"output\"]\n",
    "      actual_output = p(input_grid)\n",
    "      \n",
    "      is_correct = actual_output == expected_output\n",
    "      status = \"✓ 成功\" if is_correct else \"✗ 失敗\"\n",
    "      \n",
    "      print(f\"Test例{i+1}: {status}\")\n",
    "      if is_correct:\n",
    "          test_success += 1\n",
    "\n",
    "  print(f\"テストデータの成功率: {test_success}/{len(task_data['test'])}\")"
   ]
  },
  {
   "cell_type": "code",
   "execution_count": 11,
   "id": "2907b9b7",
   "metadata": {},
   "outputs": [
    {
     "name": "stdout",
     "output_type": "stream",
     "text": [
      "Train例1: ✓ 成功\n",
      "Train例2: ✓ 成功\n",
      "Train例3: ✓ 成功\n",
      "訓練データの成功率: 3/3\n",
      "Test例1: ✓ 成功\n",
      "テストデータの成功率: 1/1\n"
     ]
    }
   ],
   "source": [
    "test_json()"
   ]
  },
  {
   "cell_type": "code",
   "execution_count": null,
   "id": "9224ba56",
   "metadata": {},
   "outputs": [],
   "source": []
  }
 ],
 "metadata": {
  "kernelspec": {
   "display_name": "docker-uv-template",
   "language": "python",
   "name": "python3"
  },
  "language_info": {
   "codemirror_mode": {
    "name": "ipython",
    "version": 3
   },
   "file_extension": ".py",
   "mimetype": "text/x-python",
   "name": "python",
   "nbconvert_exporter": "python",
   "pygments_lexer": "ipython3",
   "version": "3.10.12"
  }
 },
 "nbformat": 4,
 "nbformat_minor": 5
}
