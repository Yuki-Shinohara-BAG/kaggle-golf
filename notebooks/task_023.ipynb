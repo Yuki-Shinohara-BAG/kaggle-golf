{
 "cells": [
  {
   "cell_type": "code",
   "execution_count": 1,
   "id": "6464d57a",
   "metadata": {},
   "outputs": [
    {
     "data": {
      "image/png": "[encoded data removed]",
      "text/plain": [
       "<Figure size 1000x500 with 1 Axes>"
      ]
     },
     "metadata": {},
     "output_type": "display_data"
    }
   ],
   "source": [
    "import sys\n",
    "import json\n",
    "import shutil\n",
    "sys.path.append(\"../inputs/google-code-golf-2025/code_golf_utils\")\n",
    "from code_golf_utils import *\n",
    "show_legend()"
   ]
  },
  {
   "cell_type": "code",
   "execution_count": 2,
   "id": "6002d52a",
   "metadata": {},
   "outputs": [],
   "source": [
    "def get_examples(task_num):\n",
    "    examples = load_examples(task_num)\n",
    "    show_examples(examples['train'] + examples['test'])\n",
    "    return examples\n",
    "\n",
    "def save_file(task_num, sub_dir=\"/kaggle/working/submission/\"):\n",
    "    task_path = os.path.join(sub_dir, f\"task{task_num:03d}.py\")\n",
    "    os.makedirs(sub_dir, exist_ok=True)\n",
    "    shutil.copy(\"task.py\", task_path)\n",
    "    \n",
    "def show_grid(out_grid, in_grid, ans_grid, figsize=(12, 4), k=-0.11):\n",
    "    # Colors for each index\n",
    "    colors = [\n",
    "        (0, 0, 0),\n",
    "        (30, 147, 255),\n",
    "        (250, 61, 49),\n",
    "        (78, 204, 48),\n",
    "        (255, 221, 0),\n",
    "        (153, 153, 153),\n",
    "        (229, 59, 163),\n",
    "        (255, 133, 28),\n",
    "        (136, 216, 241),\n",
    "        (147, 17, 49),\n",
    "    ]\n",
    "    colors = [(r/255, g/255, b/255) for r, g, b in colors]\n",
    "\n",
    "    def plot_ax(ax, arr):\n",
    "        rows = len(arr)\n",
    "        cols = len(arr[0])\n",
    "        # Draw each cell\n",
    "        for y in range(rows):\n",
    "            for x in range(cols):\n",
    "                color = colors[arr[y][x]]\n",
    "                rect = plt.Rectangle((x, y), 1, 1, facecolor=color, edgecolor=\"white\")\n",
    "                ax.add_patch(rect)\n",
    "\n",
    "        # Axis limits\n",
    "        ax.set_xlim(0, cols)\n",
    "        ax.set_ylim(0, rows)\n",
    "        # Center ticks in each cell\n",
    "        ax.set_xticks([i + 0.5 for i in range(cols)])\n",
    "        ax.set_yticks([i + 0.5 for i in range(rows)])\n",
    "        # Label ticks as integers\n",
    "        ax.set_xticklabels(range(cols))\n",
    "        ax.set_yticklabels(range(rows))\n",
    "        ax.tick_params(axis='both', length=0)\n",
    "        # Move x-axis labels to top\n",
    "        ax.xaxis.tick_top()\n",
    "        ax.xaxis.set_label_position('top')\n",
    "        # Invert y-axis so 0 is at the top\n",
    "        ax.invert_yaxis()\n",
    "        # Square cells\n",
    "        ax.set_aspect('equal')\n",
    "\n",
    "    fig, ax = plt.subplots(1, 3, figsize=figsize)\n",
    "    plot_ax(ax[0],out_grid)\n",
    "    ax[0].set_title(\"Output\",y=k)\n",
    "    plot_ax(ax[1], in_grid)\n",
    "    ax[1].set_title(\"Input\",y=k)\n",
    "    plot_ax(ax[2],ans_grid)\n",
    "    ax[2].set_title(\"Answer\",y=k)\n",
    "    plt.show()"
   ]
  },
  {
   "cell_type": "code",
   "execution_count": 3,
   "id": "8db9bf56",
   "metadata": {},
   "outputs": [
    {
     "data": {
      "image/png": "[encoded data removed]",
      "text/plain": [
       "<Figure size 1000x500 with 1 Axes>"
      ]
     },
     "metadata": {},
     "output_type": "display_data"
    }
   ],
   "source": [
    "task_num = 23\n",
    "examples = get_examples(task_num)"
   ]
  },
  {
   "cell_type": "code",
   "execution_count": 4,
   "id": "add2b0cc",
   "metadata": {},
   "outputs": [],
   "source": [
    "def p(g):\n",
    "    # 左上の数字（基本の数字）を取得\n",
    "    base_num = g[0][0]\n",
    "    \n",
    "    # 左端で数字が変わる回数をカウント（左カウント）\n",
    "    left_count = 0\n",
    "    for i in range(1, len(g)):\n",
    "        if g[i][0] != base_num:\n",
    "            left_count += 1\n",
    "    \n",
    "    # 上端で数字が変わる回数をカウント（上カウント）\n",
    "    up_count = 0\n",
    "    for j in range(1, len(g[0])):\n",
    "        if g[0][j] != base_num:\n",
    "            up_count += 1\n",
    "    \n",
    "    # 返すリストを作成：横(上カウント+1)×縦(左カウント+1)\n",
    "    rows = left_count + 1\n",
    "    cols = up_count + 1\n",
    "    \n",
    "    # 基本の数字で埋めたリストを作成\n",
    "    r = [[base_num for _ in range(cols)] for _ in range(rows)]\n",
    "    \n",
    "    return r"
   ]
  },
  {
   "cell_type": "code",
   "execution_count": 8,
   "id": "221a2495",
   "metadata": {},
   "outputs": [],
   "source": [
    "def p(g):b=g[0][0];return[[b]*-~sum(x!=b for x in g[0])for _ in' '*-~sum(r[0]!=b for r in g)]"
   ]
  },
  {
   "cell_type": "code",
   "execution_count": 9,
   "id": "cbfa42bd",
   "metadata": {},
   "outputs": [
    {
     "name": "stdout",
     "output_type": "stream",
     "text": [
      "[[3, 7, 3, 3, 3, 3, 3, 3, 3, 3, 7, 3, 3, 7, 3], [3, 7, 3, 3, 3, 3, 3, 3, 3, 3, 7, 3, 3, 7, 3], [7, 7, 7, 7, 7, 7, 7, 7, 7, 7, 7, 7, 7, 7, 7], [3, 7, 3, 3, 3, 3, 3, 3, 3, 3, 7, 3, 3, 7, 3], [3, 7, 3, 3, 3, 3, 3, 3, 3, 3, 7, 3, 3, 7, 3], [3, 7, 3, 3, 3, 3, 3, 3, 3, 3, 7, 3, 3, 7, 3], [3, 7, 3, 3, 3, 3, 3, 3, 3, 3, 7, 3, 3, 7, 3], [3, 7, 3, 3, 3, 3, 3, 3, 3, 3, 7, 3, 3, 7, 3], [3, 7, 3, 3, 3, 3, 3, 3, 3, 3, 7, 3, 3, 7, 3], [3, 7, 3, 3, 3, 3, 3, 3, 3, 3, 7, 3, 3, 7, 3], [3, 7, 3, 3, 3, 3, 3, 3, 3, 3, 7, 3, 3, 7, 3], [3, 7, 3, 3, 3, 3, 3, 3, 3, 3, 7, 3, 3, 7, 3], [3, 7, 3, 3, 3, 3, 3, 3, 3, 3, 7, 3, 3, 7, 3], [3, 7, 3, 3, 3, 3, 3, 3, 3, 3, 7, 3, 3, 7, 3], [3, 7, 3, 3, 3, 3, 3, 3, 3, 3, 7, 3, 3, 7, 3]]\n",
      "[[3, 3, 3, 3], [3, 3, 3, 3]]\n",
      "[[3, 3, 3, 3], [3, 3, 3, 3]]\n",
      "✓ 成功\n"
     ]
    }
   ],
   "source": [
    "with open(\"../inputs/google-code-golf-2025/task021.json\", \"r\", encoding=\"utf-8\") as f:\n",
    "  task_data = json.load(f)\n",
    "\n",
    "example = task_data[\"train\"][0]\n",
    "input_grid = example[\"input\"]\n",
    "expected_output = example[\"output\"]\n",
    "actual_output = p(input_grid)\n",
    "\n",
    "is_correct = actual_output == expected_output\n",
    "status = \"✓ 成功\" if is_correct else \"✗ 失敗\"\n",
    "\n",
    "print(input_grid)\n",
    "print(expected_output)\n",
    "print(actual_output)\n",
    "print(status)"
   ]
  },
  {
   "cell_type": "code",
   "execution_count": 10,
   "id": "3db7a8db",
   "metadata": {},
   "outputs": [],
   "source": [
    "def test_json():\n",
    "  with open(\"../inputs/google-code-golf-2025/task021.json\", \"r\", encoding=\"utf-8\") as f:\n",
    "    task_data = json.load(f)\n",
    "  \n",
    "  train_success = 0\n",
    "  for i, example in enumerate(task_data[\"train\"]):\n",
    "      input_grid = example[\"input\"]\n",
    "      expected_output = example[\"output\"]\n",
    "      actual_output = p(input_grid)\n",
    "      \n",
    "      is_correct = actual_output == expected_output\n",
    "      status = \"✓ 成功\" if is_correct else \"✗ 失敗\"\n",
    "      \n",
    "      print(f\"Train例{i+1}: {status}\")\n",
    "      if is_correct:\n",
    "          train_success += 1\n",
    "\n",
    "  print(f\"訓練データの成功率: {train_success}/{len(task_data['train'])}\")\n",
    "\n",
    "  test_success = 0\n",
    "  for i, example in enumerate(task_data[\"test\"]):\n",
    "      input_grid = example[\"input\"]\n",
    "      expected_output = example[\"output\"]\n",
    "      actual_output = p(input_grid)\n",
    "      \n",
    "      is_correct = actual_output == expected_output\n",
    "      status = \"✓ 成功\" if is_correct else \"✗ 失敗\"\n",
    "      \n",
    "      print(f\"Test例{i+1}: {status}\")\n",
    "      if is_correct:\n",
    "          test_success += 1\n",
    "\n",
    "  print(f\"テストデータの成功率: {test_success}/{len(task_data['test'])}\")"
   ]
  },
  {
   "cell_type": "code",
   "execution_count": 11,
   "id": "2907b9b7",
   "metadata": {},
   "outputs": [
    {
     "name": "stdout",
     "output_type": "stream",
     "text": [
      "Train例1: ✓ 成功\n",
      "Train例2: ✓ 成功\n",
      "Train例3: ✓ 成功\n",
      "訓練データの成功率: 3/3\n",
      "Test例1: ✓ 成功\n",
      "テストデータの成功率: 1/1\n"
     ]
    }
   ],
   "source": [
    "test_json()"
   ]
  },
  {
   "cell_type": "code",
   "execution_count": null,
   "id": "9224ba56",
   "metadata": {},
   "outputs": [],
   "source": []
  }
 ],
 "metadata": {
  "kernelspec": {
   "display_name": "docker-uv-template",
   "language": "python",
   "name": "python3"
  },
  "language_info": {
   "codemirror_mode": {
    "name": "ipython",
    "version": 3
   },
   "file_extension": ".py",
   "mimetype": "text/x-python",
   "name": "python",
   "nbconvert_exporter": "python",
   "pygments_lexer": "ipython3",
   "version": "3.10.12"
  }
 },
 "nbformat": 4,
 "nbformat_minor": 5
}
