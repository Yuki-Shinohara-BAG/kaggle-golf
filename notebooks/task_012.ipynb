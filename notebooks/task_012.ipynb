{
 "cells": [
  {
   "cell_type": "code",
   "execution_count": 1,
   "id": "6464d57a",
   "metadata": {},
   "outputs": [
    {
     "data": {
      "image/png": "[encoded data removed]",
      "text/plain": [
       "<Figure size 1000x500 with 1 Axes>"
      ]
     },
     "metadata": {},
     "output_type": "display_data"
    }
   ],
   "source": [
    "import sys\n",
    "import json\n",
    "import shutil\n",
    "sys.path.append(\"../inputs/google-code-golf-2025/code_golf_utils\")\n",
    "from code_golf_utils import *\n",
    "show_legend()"
   ]
  },
  {
   "cell_type": "code",
   "execution_count": 2,
   "id": "6002d52a",
   "metadata": {},
   "outputs": [],
   "source": [
    "def get_examples(task_num):\n",
    "    examples = load_examples(task_num)\n",
    "    show_examples(examples['train'] + examples['test'])\n",
    "    return examples\n",
    "\n",
    "def save_file(task_num, sub_dir=\"/kaggle/working/submission/\"):\n",
    "    task_path = os.path.join(sub_dir, f\"task{task_num:03d}.py\")\n",
    "    os.makedirs(sub_dir, exist_ok=True)\n",
    "    shutil.copy(\"task.py\", task_path)\n",
    "    \n",
    "def show_grid(out_grid, in_grid, ans_grid, figsize=(12, 4), k=-0.11):\n",
    "    # Colors for each index\n",
    "    colors = [\n",
    "        (0, 0, 0),\n",
    "        (30, 147, 255),\n",
    "        (250, 61, 49),\n",
    "        (78, 204, 48),\n",
    "        (255, 221, 0),\n",
    "        (153, 153, 153),\n",
    "        (229, 59, 163),\n",
    "        (255, 133, 28),\n",
    "        (136, 216, 241),\n",
    "        (147, 17, 49),\n",
    "    ]\n",
    "    colors = [(r/255, g/255, b/255) for r, g, b in colors]\n",
    "\n",
    "    def plot_ax(ax, arr):\n",
    "        rows = len(arr)\n",
    "        cols = len(arr[0])\n",
    "        # Draw each cell\n",
    "        for y in range(rows):\n",
    "            for x in range(cols):\n",
    "                color = colors[arr[y][x]]\n",
    "                rect = plt.Rectangle((x, y), 1, 1, facecolor=color, edgecolor=\"white\")\n",
    "                ax.add_patch(rect)\n",
    "\n",
    "        # Axis limits\n",
    "        ax.set_xlim(0, cols)\n",
    "        ax.set_ylim(0, rows)\n",
    "        # Center ticks in each cell\n",
    "        ax.set_xticks([i + 0.5 for i in range(cols)])\n",
    "        ax.set_yticks([i + 0.5 for i in range(rows)])\n",
    "        # Label ticks as integers\n",
    "        ax.set_xticklabels(range(cols))\n",
    "        ax.set_yticklabels(range(rows))\n",
    "        ax.tick_params(axis='both', length=0)\n",
    "        # Move x-axis labels to top\n",
    "        ax.xaxis.tick_top()\n",
    "        ax.xaxis.set_label_position('top')\n",
    "        # Invert y-axis so 0 is at the top\n",
    "        ax.invert_yaxis()\n",
    "        # Square cells\n",
    "        ax.set_aspect('equal')\n",
    "\n",
    "    fig, ax = plt.subplots(1, 3, figsize=figsize)\n",
    "    plot_ax(ax[0],out_grid)\n",
    "    ax[0].set_title(\"Output\",y=k)\n",
    "    plot_ax(ax[1], in_grid)\n",
    "    ax[1].set_title(\"Input\",y=k)\n",
    "    plot_ax(ax[2],ans_grid)\n",
    "    ax[2].set_title(\"Answer\",y=k)\n",
    "    plt.show()"
   ]
  },
  {
   "cell_type": "code",
   "execution_count": 3,
   "id": "8db9bf56",
   "metadata": {},
   "outputs": [
    {
     "data": {
      "image/png": "[encoded data removed]",
      "text/plain": [
       "<Figure size 1000x500 with 1 Axes>"
      ]
     },
     "metadata": {},
     "output_type": "display_data"
    }
   ],
   "source": [
    "task_num = 12\n",
    "examples = get_examples(task_num)"
   ]
  },
  {
   "cell_type": "code",
   "execution_count": 4,
   "id": "aeea9207",
   "metadata": {},
   "outputs": [],
   "source": [
    "def p(g):\n",
    "    \"\"\"\n",
    "    Transform 3x3 patterns in a 12x12 grid to 5x5 patterns.\n",
    "    \n",
    "    The transformation rule:\n",
    "    - Find 3x3 patterns with a cross shape (center + 4 adjacent cells)\n",
    "    - Convert them to 5x5 patterns using a specific expansion rule\n",
    "    \n",
    "    Pattern:\n",
    "    Input 3x3:     Output 5x5:\n",
    "    [0,A,0]        [B,0,A,0,B]\n",
    "    [A,B,A]   ->   [0,B,A,B,0] \n",
    "    [0,A,0]        [A,A,B,A,A]\n",
    "                   [0,B,A,B,0]\n",
    "                   [B,0,A,0,B]\n",
    "    \n",
    "    Where A and B are the two different non-zero colors in the pattern.\n",
    "    \"\"\"\n",
    "    \n",
    "    # Create a copy of the input grid to modify\n",
    "    result = [row[:] for row in g]\n",
    "    \n",
    "    # Search for 3x3 cross patterns in the grid\n",
    "    for center_row in range(1, 11):  # Can't be on edges for 3x3 pattern\n",
    "        for center_col in range(1, 11):\n",
    "            \n",
    "            # Check if this position is the center of a 3x3 cross pattern\n",
    "            center_val = g[center_row][center_col]\n",
    "            \n",
    "            # Skip if center is 0 (background)\n",
    "            if center_val == 0:\n",
    "                continue\n",
    "                \n",
    "            # Check if we have a cross pattern (center + 4 adjacent non-zero values)\n",
    "            top = g[center_row - 1][center_col]\n",
    "            bottom = g[center_row + 1][center_col] \n",
    "            left = g[center_row][center_col - 1]\n",
    "            right = g[center_row][center_col + 1]\n",
    "            \n",
    "            # Check corners should be 0 (background) for cross pattern\n",
    "            top_left = g[center_row - 1][center_col - 1]\n",
    "            top_right = g[center_row - 1][center_col + 1] \n",
    "            bottom_left = g[center_row + 1][center_col - 1]\n",
    "            bottom_right = g[center_row + 1][center_col + 1]\n",
    "            \n",
    "            # Verify this is a cross pattern: center and 4 adjacent are non-zero, corners are zero\n",
    "            if (top != 0 and bottom != 0 and left != 0 and right != 0 and\n",
    "                top_left == 0 and top_right == 0 and bottom_left == 0 and bottom_right == 0 and\n",
    "                top == bottom == left == right):  # All arms of cross are same color\n",
    "                \n",
    "                # Found a valid 3x3 cross pattern\n",
    "                arm_color = top  # Color of the cross arms\n",
    "                center_color = center_val  # Color of the center\n",
    "                \n",
    "                # Generate the 5x5 expansion pattern\n",
    "                # Pattern positions relative to center:\n",
    "                pattern_5x5 = [\n",
    "                    [-2, -1,  0,  1,  2],  # row offsets\n",
    "                    [-2, -1,  0,  1,  2]   # col offsets  \n",
    "                ]\n",
    "                \n",
    "                # Define the 5x5 pattern based on the transformation rule\n",
    "                # [B,0,A,0,B]\n",
    "                # [0,B,A,B,0] \n",
    "                # [A,A,B,A,A]\n",
    "                # [0,B,A,B,0]\n",
    "                # [B,0,A,0,B]\n",
    "                \n",
    "                expansion_pattern = [\n",
    "                    [center_color, 0, arm_color, 0, center_color],\n",
    "                    [0, center_color, arm_color, center_color, 0],\n",
    "                    [arm_color, arm_color, center_color, arm_color, arm_color],\n",
    "                    [0, center_color, arm_color, center_color, 0],\n",
    "                    [center_color, 0, arm_color, 0, center_color]\n",
    "                ]\n",
    "                \n",
    "                # Apply the 5x5 pattern to the result grid\n",
    "                for dr in range(-2, 3):  # -2 to 2 inclusive\n",
    "                    for dc in range(-2, 3):  # -2 to 2 inclusive\n",
    "                        new_row = center_row + dr\n",
    "                        new_col = center_col + dc\n",
    "                        \n",
    "                        # Check bounds\n",
    "                        if 0 <= new_row < 12 and 0 <= new_col < 12:\n",
    "                            pattern_row = dr + 2  # Convert to 0-4 range\n",
    "                            pattern_col = dc + 2  # Convert to 0-4 range\n",
    "                            result[new_row][new_col] = expansion_pattern[pattern_row][pattern_col]\n",
    "    \n",
    "    return result"
   ]
  },
  {
   "cell_type": "code",
   "execution_count": 8,
   "id": "6a6095aa",
   "metadata": {},
   "outputs": [],
   "source": [
    "def p(g):\n",
    " r=[R[:]for R in g]\n",
    " for i in range(1,11):\n",
    "  for j in range(1,11):\n",
    "   c,t,b,l,R=g[i][j],g[i-1][j],g[i+1][j],g[i][j-1],g[i][j+1]\n",
    "   if c*t*b*l*R*(t==b==l==R)*all(g[i+x][j+y]<1for x,y in[(-1,-1),(-1,1),(1,-1),(1,1)]):\n",
    "    for x in range(5):\n",
    "     for y in range(5):\n",
    "      if-1<i+x-2<12>j+y-2>-1:r[i+x-2][j+y-2]=[[c,0,t,0,c],[0,c,t,c,0],[t,t,c,t,t],[0,c,t,c,0],[c,0,t,0,c]][x][y]\n",
    " return r"
   ]
  },
  {
   "cell_type": "code",
   "execution_count": 9,
   "id": "cbfa42bd",
   "metadata": {},
   "outputs": [
    {
     "name": "stdout",
     "output_type": "stream",
     "text": [
      "[[0, 0, 0, 0, 0, 0, 0, 0, 0, 0, 0, 0], [0, 0, 0, 0, 0, 0, 0, 0, 0, 0, 0, 0], [0, 0, 7, 0, 0, 0, 0, 0, 0, 0, 0, 0], [0, 7, 2, 7, 0, 0, 0, 0, 0, 0, 0, 0], [0, 0, 7, 0, 0, 0, 0, 0, 0, 0, 0, 0], [0, 0, 0, 0, 0, 0, 0, 0, 0, 0, 0, 0], [0, 0, 0, 0, 0, 0, 0, 0, 7, 0, 0, 0], [0, 0, 0, 0, 0, 0, 0, 7, 2, 7, 0, 0], [0, 0, 0, 0, 0, 0, 0, 0, 7, 0, 0, 0], [0, 0, 0, 0, 0, 0, 0, 0, 0, 0, 0, 0], [0, 0, 0, 0, 0, 0, 0, 0, 0, 0, 0, 0], [0, 0, 0, 0, 0, 0, 0, 0, 0, 0, 0, 0]]\n",
      "[[0, 0, 0, 0, 0, 0, 0, 0, 0, 0, 0, 0], [2, 0, 7, 0, 2, 0, 0, 0, 0, 0, 0, 0], [0, 2, 7, 2, 0, 0, 0, 0, 0, 0, 0, 0], [7, 7, 2, 7, 7, 0, 0, 0, 0, 0, 0, 0], [0, 2, 7, 2, 0, 0, 0, 0, 0, 0, 0, 0], [2, 0, 7, 0, 2, 0, 2, 0, 7, 0, 2, 0], [0, 0, 0, 0, 0, 0, 0, 2, 7, 2, 0, 0], [0, 0, 0, 0, 0, 0, 7, 7, 2, 7, 7, 0], [0, 0, 0, 0, 0, 0, 0, 2, 7, 2, 0, 0], [0, 0, 0, 0, 0, 0, 2, 0, 7, 0, 2, 0], [0, 0, 0, 0, 0, 0, 0, 0, 0, 0, 0, 0], [0, 0, 0, 0, 0, 0, 0, 0, 0, 0, 0, 0]]\n",
      "[[0, 0, 0, 0, 0, 0, 0, 0, 0, 0, 0, 0], [2, 0, 7, 0, 2, 0, 0, 0, 0, 0, 0, 0], [0, 2, 7, 2, 0, 0, 0, 0, 0, 0, 0, 0], [7, 7, 2, 7, 7, 0, 0, 0, 0, 0, 0, 0], [0, 2, 7, 2, 0, 0, 0, 0, 0, 0, 0, 0], [2, 0, 7, 0, 2, 0, 2, 0, 7, 0, 2, 0], [0, 0, 0, 0, 0, 0, 0, 2, 7, 2, 0, 0], [0, 0, 0, 0, 0, 0, 7, 7, 2, 7, 7, 0], [0, 0, 0, 0, 0, 0, 0, 2, 7, 2, 0, 0], [0, 0, 0, 0, 0, 0, 2, 0, 7, 0, 2, 0], [0, 0, 0, 0, 0, 0, 0, 0, 0, 0, 0, 0], [0, 0, 0, 0, 0, 0, 0, 0, 0, 0, 0, 0]]\n",
      "✓ 成功\n"
     ]
    }
   ],
   "source": [
    "with open(\"../inputs/google-code-golf-2025/task012.json\", \"r\", encoding=\"utf-8\") as f:\n",
    "  task_data = json.load(f)\n",
    "\n",
    "example = task_data[\"train\"][0]\n",
    "input_grid = example[\"input\"]\n",
    "expected_output = example[\"output\"]\n",
    "actual_output = p(input_grid)\n",
    "\n",
    "is_correct = actual_output == expected_output\n",
    "status = \"✓ 成功\" if is_correct else \"✗ 失敗\"\n",
    "\n",
    "print(input_grid)\n",
    "print(expected_output)\n",
    "print(actual_output)\n",
    "print(status)"
   ]
  },
  {
   "cell_type": "code",
   "execution_count": 10,
   "id": "3db7a8db",
   "metadata": {},
   "outputs": [],
   "source": [
    "def test_json():\n",
    "  with open(\"../inputs/google-code-golf-2025/task012.json\", \"r\", encoding=\"utf-8\") as f:\n",
    "    task_data = json.load(f)\n",
    "  \n",
    "  train_success = 0\n",
    "  for i, example in enumerate(task_data[\"train\"]):\n",
    "      input_grid = example[\"input\"]\n",
    "      expected_output = example[\"output\"]\n",
    "      actual_output = p(input_grid)\n",
    "      \n",
    "      is_correct = actual_output == expected_output\n",
    "      status = \"✓ 成功\" if is_correct else \"✗ 失敗\"\n",
    "      \n",
    "      print(f\"Train例{i+1}: {status}\")\n",
    "      if is_correct:\n",
    "          train_success += 1\n",
    "\n",
    "  print(f\"訓練データの成功率: {train_success}/{len(task_data['train'])}\")\n",
    "\n",
    "  test_success = 0\n",
    "  for i, example in enumerate(task_data[\"test\"]):\n",
    "      input_grid = example[\"input\"]\n",
    "      expected_output = example[\"output\"]\n",
    "      actual_output = p(input_grid)\n",
    "      \n",
    "      is_correct = actual_output == expected_output\n",
    "      status = \"✓ 成功\" if is_correct else \"✗ 失敗\"\n",
    "      \n",
    "      print(f\"Test例{i+1}: {status}\")\n",
    "      if is_correct:\n",
    "          test_success += 1\n",
    "\n",
    "  print(f\"テストデータの成功率: {test_success}/{len(task_data['test'])}\")"
   ]
  },
  {
   "cell_type": "code",
   "execution_count": 11,
   "id": "2907b9b7",
   "metadata": {},
   "outputs": [
    {
     "name": "stdout",
     "output_type": "stream",
     "text": [
      "Train例1: ✓ 成功\n",
      "Train例2: ✓ 成功\n",
      "訓練データの成功率: 2/2\n",
      "Test例1: ✓ 成功\n",
      "テストデータの成功率: 1/1\n"
     ]
    }
   ],
   "source": [
    "test_json()"
   ]
  },
  {
   "cell_type": "code",
   "execution_count": null,
   "id": "9224ba56",
   "metadata": {},
   "outputs": [],
   "source": []
  }
 ],
 "metadata": {
  "kernelspec": {
   "display_name": "docker-uv-template",
   "language": "python",
   "name": "python3"
  },
  "language_info": {
   "codemirror_mode": {
    "name": "ipython",
    "version": 3
   },
   "file_extension": ".py",
   "mimetype": "text/x-python",
   "name": "python",
   "nbconvert_exporter": "python",
   "pygments_lexer": "ipython3",
   "version": "3.10.12"
  }
 },
 "nbformat": 4,
 "nbformat_minor": 5
}
